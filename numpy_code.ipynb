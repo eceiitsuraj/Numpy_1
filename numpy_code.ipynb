{
 "cells": [
  {
   "cell_type": "markdown",
   "id": "536ea2c2",
   "metadata": {},
   "source": [
    "# Numpy"
   ]
  },
  {
   "cell_type": "code",
   "execution_count": 1,
   "id": "04500dbd",
   "metadata": {},
   "outputs": [
    {
     "data": {
      "text/plain": [
       "[1, 4, 7, 8]"
      ]
     },
     "execution_count": 1,
     "metadata": {},
     "output_type": "execute_result"
    }
   ],
   "source": [
    "mylist = [1,4,7,8]\n",
    "mylist"
   ]
  },
  {
   "cell_type": "code",
   "execution_count": 2,
   "id": "45814aaf",
   "metadata": {},
   "outputs": [],
   "source": [
    "mylist = mylist*2"
   ]
  },
  {
   "cell_type": "code",
   "execution_count": 3,
   "id": "0838d6fa",
   "metadata": {},
   "outputs": [
    {
     "data": {
      "text/plain": [
       "[1, 4, 7, 8, 1, 4, 7, 8]"
      ]
     },
     "execution_count": 3,
     "metadata": {},
     "output_type": "execute_result"
    }
   ],
   "source": [
    "mylist"
   ]
  },
  {
   "cell_type": "code",
   "execution_count": 4,
   "id": "50766b91",
   "metadata": {},
   "outputs": [
    {
     "name": "stdout",
     "output_type": "stream",
     "text": [
      "[2, 8, 14, 16, 2, 8, 14, 16]\n"
     ]
    }
   ],
   "source": [
    "mylist2 = []\n",
    "for val in mylist:\n",
    "    mylist2.append(val*2)\n",
    "    \n",
    "print(mylist2)"
   ]
  },
  {
   "cell_type": "code",
   "execution_count": 5,
   "id": "06ed9074",
   "metadata": {},
   "outputs": [],
   "source": [
    "l1 = [[1,5,9,6],[5,6,4,8],[7,8,2,3]]"
   ]
  },
  {
   "cell_type": "code",
   "execution_count": 6,
   "id": "1d81c76e",
   "metadata": {},
   "outputs": [
    {
     "data": {
      "text/plain": [
       "[[1, 5, 9, 6], [5, 6, 4, 8], [7, 8, 2, 3]]"
      ]
     },
     "execution_count": 6,
     "metadata": {},
     "output_type": "execute_result"
    }
   ],
   "source": [
    "l1"
   ]
  },
  {
   "cell_type": "markdown",
   "id": "b00765ed",
   "metadata": {},
   "source": [
    "**Numpy Array**"
   ]
  },
  {
   "cell_type": "code",
   "execution_count": 7,
   "id": "b241d49d",
   "metadata": {},
   "outputs": [],
   "source": [
    "import numpy as np"
   ]
  },
  {
   "cell_type": "code",
   "execution_count": 8,
   "id": "cf1faecd",
   "metadata": {},
   "outputs": [],
   "source": [
    "a = np.array([1,7,9,3])"
   ]
  },
  {
   "cell_type": "code",
   "execution_count": 9,
   "id": "3a5859e3",
   "metadata": {},
   "outputs": [
    {
     "name": "stdout",
     "output_type": "stream",
     "text": [
      "[1 7 9 3]\n"
     ]
    }
   ],
   "source": [
    "print(a)"
   ]
  },
  {
   "cell_type": "code",
   "execution_count": 10,
   "id": "9e0c32f1",
   "metadata": {},
   "outputs": [
    {
     "name": "stdout",
     "output_type": "stream",
     "text": [
      "[ 2 14 18  6]\n"
     ]
    }
   ],
   "source": [
    "print(a*2)"
   ]
  },
  {
   "cell_type": "code",
   "execution_count": 11,
   "id": "df547a55",
   "metadata": {},
   "outputs": [],
   "source": [
    "b = np.array([[1,5,9,6],[5,6,4,8],[7,8,2,3]])"
   ]
  },
  {
   "cell_type": "code",
   "execution_count": 12,
   "id": "236d708c",
   "metadata": {},
   "outputs": [
    {
     "name": "stdout",
     "output_type": "stream",
     "text": [
      "[[1 5 9 6]\n",
      " [5 6 4 8]\n",
      " [7 8 2 3]]\n"
     ]
    }
   ],
   "source": [
    "print(b)"
   ]
  },
  {
   "cell_type": "code",
   "execution_count": 13,
   "id": "8a59274d",
   "metadata": {},
   "outputs": [
    {
     "name": "stdout",
     "output_type": "stream",
     "text": [
      "[[ 2 10 18 12]\n",
      " [10 12  8 16]\n",
      " [14 16  4  6]]\n"
     ]
    }
   ],
   "source": [
    "print(b*2)"
   ]
  },
  {
   "cell_type": "code",
   "execution_count": 14,
   "id": "d09a867c",
   "metadata": {},
   "outputs": [
    {
     "name": "stdout",
     "output_type": "stream",
     "text": [
      "(3, 4)\n",
      "12\n",
      "2\n"
     ]
    }
   ],
   "source": [
    "print(b.shape)\n",
    "print(b.size)\n",
    "print(b.ndim)"
   ]
  },
  {
   "cell_type": "code",
   "execution_count": 15,
   "id": "bb51e198",
   "metadata": {},
   "outputs": [
    {
     "name": "stdout",
     "output_type": "stream",
     "text": [
      "[1 5 9 6]\n"
     ]
    }
   ],
   "source": [
    "print(b[0])"
   ]
  },
  {
   "cell_type": "code",
   "execution_count": 16,
   "id": "53b4f6a3",
   "metadata": {},
   "outputs": [
    {
     "name": "stdout",
     "output_type": "stream",
     "text": [
      "[5 6 4 8]\n"
     ]
    }
   ],
   "source": [
    "print(b[1])"
   ]
  },
  {
   "cell_type": "code",
   "execution_count": 17,
   "id": "fca5fede",
   "metadata": {},
   "outputs": [
    {
     "name": "stdout",
     "output_type": "stream",
     "text": [
      "[7 8 2 3]\n"
     ]
    }
   ],
   "source": [
    "print(b[2])"
   ]
  },
  {
   "cell_type": "code",
   "execution_count": 18,
   "id": "a10f2115",
   "metadata": {},
   "outputs": [
    {
     "name": "stdout",
     "output_type": "stream",
     "text": [
      "5\n",
      "5\n",
      "8\n"
     ]
    }
   ],
   "source": [
    "#address of any value - array[row index,column index]\n",
    "print(b[0,1])\n",
    "print(b[0][1])\n",
    "print(b[1,3])"
   ]
  },
  {
   "cell_type": "code",
   "execution_count": 19,
   "id": "7f8c6bdb",
   "metadata": {
    "scrolled": true
   },
   "outputs": [
    {
     "name": "stdout",
     "output_type": "stream",
     "text": [
      "[['1' '5' '9' '6']\n",
      " ['5' 'ABC' '4' '8']\n",
      " ['7' '8' '2' '3']]\n"
     ]
    }
   ],
   "source": [
    "c = np.array([[1,5,9,6],[5,'ABC',4,8],[7,8,2,3]])\n",
    "print(c)"
   ]
  },
  {
   "cell_type": "code",
   "execution_count": 20,
   "id": "417625be",
   "metadata": {},
   "outputs": [
    {
     "name": "stdout",
     "output_type": "stream",
     "text": [
      "[[5 8 8 9 4 2]\n",
      " [5 9 6 3 2 1]\n",
      " [5 9 8 6 5 4]]\n"
     ]
    }
   ],
   "source": [
    "d = np.array([[5, 8, 8, 9, 4, 2], [5, 9, 6, 3, 2, 1], [5, 9, 8, 6, 5, 4]])\n",
    "print(d)"
   ]
  },
  {
   "cell_type": "code",
   "execution_count": 21,
   "id": "aa7cf8dd",
   "metadata": {},
   "outputs": [
    {
     "name": "stdout",
     "output_type": "stream",
     "text": [
      "[[5 8 8 9 4 2]\n",
      " [5 9 6 3 2 1]\n",
      " [5 9 8 6 5 4]]\n"
     ]
    }
   ],
   "source": [
    "#array[initial row index : initial row index+steps , initial col index:intial col index+steps]\n",
    "print(d[0:3 , 0:6])"
   ]
  },
  {
   "cell_type": "code",
   "execution_count": 22,
   "id": "ffd17f17",
   "metadata": {},
   "outputs": [
    {
     "name": "stdout",
     "output_type": "stream",
     "text": [
      "[[6 3 2]\n",
      " [8 6 5]]\n"
     ]
    }
   ],
   "source": [
    "#array[initial row index : initial row index+steps , initial col index:intial col index+steps]\n",
    "print(d[1:3 , 2:5])"
   ]
  },
  {
   "cell_type": "code",
   "execution_count": 23,
   "id": "ac95f392",
   "metadata": {},
   "outputs": [
    {
     "data": {
      "text/plain": [
       "array([[6, 3, 2],\n",
       "       [8, 6, 5]])"
      ]
     },
     "execution_count": 23,
     "metadata": {},
     "output_type": "execute_result"
    }
   ],
   "source": [
    "#copy the array in different array\n",
    "bs = d[1:3 , 2:5].copy()\n",
    "bs"
   ]
  },
  {
   "cell_type": "code",
   "execution_count": 24,
   "id": "1f550363",
   "metadata": {},
   "outputs": [
    {
     "data": {
      "text/plain": [
       "(2, 3)"
      ]
     },
     "execution_count": 24,
     "metadata": {},
     "output_type": "execute_result"
    }
   ],
   "source": [
    "bs.shape"
   ]
  },
  {
   "cell_type": "code",
   "execution_count": 25,
   "id": "6791addc",
   "metadata": {},
   "outputs": [
    {
     "name": "stdout",
     "output_type": "stream",
     "text": [
      "[[ 6 33  2]\n",
      " [ 8  6  5]]\n"
     ]
    }
   ],
   "source": [
    "#replace the content of array[index]\n",
    "bs[0,1] = 33\n",
    "print(bs)"
   ]
  },
  {
   "cell_type": "code",
   "execution_count": 26,
   "id": "8cb60c7a",
   "metadata": {},
   "outputs": [
    {
     "data": {
      "text/plain": [
       "array([[5, 8, 8, 9, 4, 2],\n",
       "       [5, 9, 6, 3, 2, 1],\n",
       "       [5, 9, 8, 6, 5, 4]])"
      ]
     },
     "execution_count": 26,
     "metadata": {},
     "output_type": "execute_result"
    }
   ],
   "source": [
    "d"
   ]
  },
  {
   "cell_type": "code",
   "execution_count": 27,
   "id": "8db092a3",
   "metadata": {},
   "outputs": [],
   "source": [
    "e = np.array([[[5,7,6,4] , [7,5,4,2] , [6,8,9,3]] , [[5,9,8,7] , [3,7,3,2] , [5,9,8,5]]])"
   ]
  },
  {
   "cell_type": "code",
   "execution_count": 28,
   "id": "a1964568",
   "metadata": {},
   "outputs": [
    {
     "data": {
      "text/plain": [
       "array([[[5, 7, 6, 4],\n",
       "        [7, 5, 4, 2],\n",
       "        [6, 8, 9, 3]],\n",
       "\n",
       "       [[5, 9, 8, 7],\n",
       "        [3, 7, 3, 2],\n",
       "        [5, 9, 8, 5]]])"
      ]
     },
     "execution_count": 28,
     "metadata": {},
     "output_type": "execute_result"
    }
   ],
   "source": [
    "e"
   ]
  },
  {
   "cell_type": "code",
   "execution_count": 29,
   "id": "b59c19f7",
   "metadata": {},
   "outputs": [
    {
     "name": "stdout",
     "output_type": "stream",
     "text": [
      "(2, 3, 4)\n",
      "24\n",
      "3\n"
     ]
    }
   ],
   "source": [
    "print(e.shape)\n",
    "print(e.size)\n",
    "print(e.ndim)"
   ]
  },
  {
   "cell_type": "code",
   "execution_count": 30,
   "id": "8b2886e7",
   "metadata": {},
   "outputs": [
    {
     "name": "stdout",
     "output_type": "stream",
     "text": [
      "9\n",
      "8\n"
     ]
    }
   ],
   "source": [
    "#array[floor index,row index,column index]\n",
    "print(e[0,2,2])\n",
    "print(e[1,2,2])"
   ]
  },
  {
   "cell_type": "code",
   "execution_count": 31,
   "id": "b5114d7d",
   "metadata": {},
   "outputs": [
    {
     "name": "stdout",
     "output_type": "stream",
     "text": [
      "[[5 8 8 9 4 2]\n",
      " [5 9 6 3 2 1]\n",
      " [5 9 8 6 5 4]]\n"
     ]
    }
   ],
   "source": [
    "b = np.array([[5, 8, 8, 9, 4, 2], [5, 9, 6, 3, 2, 1], [5, 9, 8, 6, 5, 4]])\n",
    "print(b)"
   ]
  },
  {
   "cell_type": "code",
   "execution_count": 32,
   "id": "89f1f1b6",
   "metadata": {},
   "outputs": [
    {
     "name": "stdout",
     "output_type": "stream",
     "text": [
      "99\n",
      "1818624000\n",
      "1\n",
      "9\n",
      "5.5\n",
      "2.5\n",
      "3\n",
      "11\n"
     ]
    }
   ],
   "source": [
    "print(np.sum(b))\n",
    "print(np.prod(b))\n",
    "print(np.min(b))\n",
    "print(np.max(b))\n",
    "print(np.mean(b))\n",
    "print(np.std(b))\n",
    "print(np.argmax(b))\n",
    "print(np.argmin(b))"
   ]
  },
  {
   "cell_type": "code",
   "execution_count": 33,
   "id": "72a204de",
   "metadata": {},
   "outputs": [
    {
     "name": "stdout",
     "output_type": "stream",
     "text": [
      "[[5 8 8 9 4 2]\n",
      " [5 9 6 3 2 1]\n",
      " [5 9 8 6 5 4]]\n"
     ]
    }
   ],
   "source": [
    "print(b)"
   ]
  },
  {
   "cell_type": "code",
   "execution_count": 34,
   "id": "b654125a",
   "metadata": {},
   "outputs": [
    {
     "name": "stdout",
     "output_type": "stream",
     "text": [
      "[15 26 22 18 11  7]\n",
      "[125 648 384 162  40   8]\n",
      "[5 8 6 3 2 1]\n",
      "[5 9 8 9 5 4]\n",
      "[5.         8.66666667 7.33333333 6.         3.66666667 2.33333333]\n",
      "[0.         0.47140452 0.94280904 2.44948974 1.24721913 1.24721913]\n",
      "[0 1 0 0 2 2]\n",
      "[0 0 1 1 1 1]\n"
     ]
    }
   ],
   "source": [
    "#for column analysis\n",
    "print(np.sum(b , axis=0))\n",
    "print(np.prod(b , axis=0))\n",
    "print(np.min(b , axis=0))\n",
    "print(np.max(b , axis=0))\n",
    "print(np.mean(b , axis=0))\n",
    "print(np.std(b , axis=0))\n",
    "print(np.argmax(b , axis=0))\n",
    "print(np.argmin(b , axis=0))"
   ]
  },
  {
   "cell_type": "code",
   "execution_count": 35,
   "id": "03d147c8",
   "metadata": {},
   "outputs": [
    {
     "name": "stdout",
     "output_type": "stream",
     "text": [
      "[[5 8 8 9 4 2]\n",
      " [5 9 6 3 2 1]\n",
      " [5 9 8 6 5 4]]\n"
     ]
    }
   ],
   "source": [
    "print(b)"
   ]
  },
  {
   "cell_type": "code",
   "execution_count": 36,
   "id": "f4da29fc",
   "metadata": {},
   "outputs": [
    {
     "name": "stdout",
     "output_type": "stream",
     "text": [
      "[36 26 37]\n",
      "[23040  1620 43200]\n",
      "[2 1 4]\n",
      "[9 9 9]\n",
      "[6.         4.33333333 6.16666667]\n",
      "[2.51661148 2.68741925 1.77169097]\n",
      "[3 1 1]\n",
      "[5 5 5]\n"
     ]
    }
   ],
   "source": [
    "#for row analysis\n",
    "print(np.sum(b , axis=1))\n",
    "print(np.prod(b , axis=1))\n",
    "print(np.min(b , axis=1))\n",
    "print(np.max(b , axis=1))\n",
    "print(np.mean(b , axis=1))\n",
    "print(np.std(b , axis=1))\n",
    "print(np.argmax(b , axis=1))\n",
    "print(np.argmin(b , axis=1))"
   ]
  },
  {
   "cell_type": "code",
   "execution_count": 37,
   "id": "6d278fe3",
   "metadata": {},
   "outputs": [
    {
     "name": "stdout",
     "output_type": "stream",
     "text": [
      "[[ 5  8  8 -9  4  2]\n",
      " [ 5  9  6  3  2  1]\n",
      " [ 5  9  8  6  5  4]]\n"
     ]
    }
   ],
   "source": [
    "b = np.array([[5, 8, 8, -9, 4, 2], [5, 9, 6, 3, 2, 1], [5, 9, 8, 6, 5, 4]])\n",
    "print(b)"
   ]
  },
  {
   "cell_type": "code",
   "execution_count": 38,
   "id": "ef670f93",
   "metadata": {},
   "outputs": [
    {
     "data": {
      "text/plain": [
       "array([[-9,  2,  4,  5,  8,  8],\n",
       "       [ 1,  2,  3,  5,  6,  9],\n",
       "       [ 4,  5,  5,  6,  8,  9]])"
      ]
     },
     "execution_count": 38,
     "metadata": {},
     "output_type": "execute_result"
    }
   ],
   "source": [
    "#Sort of row element\n",
    "np.sort(b,axis=1)"
   ]
  },
  {
   "cell_type": "code",
   "execution_count": 39,
   "id": "7be6524e",
   "metadata": {},
   "outputs": [
    {
     "data": {
      "text/plain": [
       "array([[ 5,  8,  6, -9,  2,  1],\n",
       "       [ 5,  9,  8,  3,  4,  2],\n",
       "       [ 5,  9,  8,  6,  5,  4]])"
      ]
     },
     "execution_count": 39,
     "metadata": {},
     "output_type": "execute_result"
    }
   ],
   "source": [
    "#Sort of column element\n",
    "np.sort(b,axis=0)"
   ]
  },
  {
   "cell_type": "code",
   "execution_count": 40,
   "id": "a6866cc1",
   "metadata": {},
   "outputs": [
    {
     "data": {
      "text/plain": [
       "array([[0., 0., 0., 0., 0.],\n",
       "       [0., 0., 0., 0., 0.],\n",
       "       [0., 0., 0., 0., 0.],\n",
       "       [0., 0., 0., 0., 0.]])"
      ]
     },
     "execution_count": 40,
     "metadata": {},
     "output_type": "execute_result"
    }
   ],
   "source": [
    "#generate null matrix\n",
    "np.zeros([4,5])"
   ]
  },
  {
   "cell_type": "code",
   "execution_count": 41,
   "id": "7e62dfca",
   "metadata": {},
   "outputs": [
    {
     "data": {
      "text/plain": [
       "array([[0, 0, 0, 0, 0],\n",
       "       [0, 0, 0, 0, 0],\n",
       "       [0, 0, 0, 0, 0],\n",
       "       [0, 0, 0, 0, 0]])"
      ]
     },
     "execution_count": 41,
     "metadata": {},
     "output_type": "execute_result"
    }
   ],
   "source": [
    "np.zeros([4,5],dtype=int)"
   ]
  },
  {
   "cell_type": "code",
   "execution_count": 42,
   "id": "a67347d3",
   "metadata": {},
   "outputs": [
    {
     "data": {
      "text/plain": [
       "array([[1., 1., 1., 1.],\n",
       "       [1., 1., 1., 1.],\n",
       "       [1., 1., 1., 1.]])"
      ]
     },
     "execution_count": 42,
     "metadata": {},
     "output_type": "execute_result"
    }
   ],
   "source": [
    "np.ones([3,4])"
   ]
  },
  {
   "cell_type": "code",
   "execution_count": 43,
   "id": "b4ea94a9",
   "metadata": {},
   "outputs": [
    {
     "data": {
      "text/plain": [
       "array([[1, 1, 1, 1],\n",
       "       [1, 1, 1, 1],\n",
       "       [1, 1, 1, 1]])"
      ]
     },
     "execution_count": 43,
     "metadata": {},
     "output_type": "execute_result"
    }
   ],
   "source": [
    "np.ones([3,4],dtype = int)"
   ]
  },
  {
   "cell_type": "code",
   "execution_count": 44,
   "id": "66bf76b5",
   "metadata": {},
   "outputs": [
    {
     "data": {
      "text/plain": [
       "array([[1., 0., 0., 0., 0.],\n",
       "       [0., 1., 0., 0., 0.],\n",
       "       [0., 0., 1., 0., 0.],\n",
       "       [0., 0., 0., 1., 0.],\n",
       "       [0., 0., 0., 0., 1.]])"
      ]
     },
     "execution_count": 44,
     "metadata": {},
     "output_type": "execute_result"
    }
   ],
   "source": [
    "np.eye(5)"
   ]
  },
  {
   "cell_type": "code",
   "execution_count": 45,
   "id": "08df709e",
   "metadata": {},
   "outputs": [
    {
     "name": "stdout",
     "output_type": "stream",
     "text": [
      "[ 0  1  2  3  4  5  6  7  8  9 10 11 12 13 14 15 16 17 18 19 20 21 22 23\n",
      " 24 25 26 27 28 29 30 31 32 33 34 35]\n"
     ]
    }
   ],
   "source": [
    "#array + range\n",
    "n1 = np.arange(0,36)\n",
    "print(n1)"
   ]
  },
  {
   "cell_type": "code",
   "execution_count": 46,
   "id": "d50321c7",
   "metadata": {},
   "outputs": [
    {
     "data": {
      "text/plain": [
       "array([[ 0,  1,  2,  3,  4,  5,  6,  7,  8,  9, 10, 11],\n",
       "       [12, 13, 14, 15, 16, 17, 18, 19, 20, 21, 22, 23],\n",
       "       [24, 25, 26, 27, 28, 29, 30, 31, 32, 33, 34, 35]])"
      ]
     },
     "execution_count": 46,
     "metadata": {},
     "output_type": "execute_result"
    }
   ],
   "source": [
    "#Reshaping of array\n",
    "n1.reshape(3,12)"
   ]
  },
  {
   "cell_type": "code",
   "execution_count": 47,
   "id": "b23abf01",
   "metadata": {},
   "outputs": [
    {
     "data": {
      "text/plain": [
       "array([[ 0,  1,  2,  3,  4,  5],\n",
       "       [ 6,  7,  8,  9, 10, 11],\n",
       "       [12, 13, 14, 15, 16, 17],\n",
       "       [18, 19, 20, 21, 22, 23],\n",
       "       [24, 25, 26, 27, 28, 29],\n",
       "       [30, 31, 32, 33, 34, 35]])"
      ]
     },
     "execution_count": 47,
     "metadata": {},
     "output_type": "execute_result"
    }
   ],
   "source": [
    "n1.reshape(6,6)"
   ]
  },
  {
   "cell_type": "code",
   "execution_count": 48,
   "id": "538341f3",
   "metadata": {},
   "outputs": [
    {
     "name": "stdout",
     "output_type": "stream",
     "text": [
      "[-36 -35 -34 -33 -32 -31 -30 -29 -28 -27 -26 -25 -24 -23 -22 -21 -20 -19\n",
      " -18 -17 -16 -15 -14 -13 -12 -11 -10  -9  -8  -7  -6  -5  -4  -3  -2  -1\n",
      "   0   1   2   3   4   5   6   7   8   9  10  11  12  13  14  15  16  17\n",
      "  18  19  20  21  22  23  24  25  26  27  28  29  30  31  32  33  34  35]\n"
     ]
    }
   ],
   "source": [
    "#array + range\n",
    "n2 = np.arange(-36,36)\n",
    "print(n2)"
   ]
  },
  {
   "cell_type": "code",
   "execution_count": 49,
   "id": "c96c82f2",
   "metadata": {},
   "outputs": [
    {
     "data": {
      "text/plain": [
       "array([[-36, -35, -34, -33, -32, -31, -30, -29],\n",
       "       [-28, -27, -26, -25, -24, -23, -22, -21],\n",
       "       [-20, -19, -18, -17, -16, -15, -14, -13],\n",
       "       [-12, -11, -10,  -9,  -8,  -7,  -6,  -5],\n",
       "       [ -4,  -3,  -2,  -1,   0,   1,   2,   3],\n",
       "       [  4,   5,   6,   7,   8,   9,  10,  11],\n",
       "       [ 12,  13,  14,  15,  16,  17,  18,  19],\n",
       "       [ 20,  21,  22,  23,  24,  25,  26,  27],\n",
       "       [ 28,  29,  30,  31,  32,  33,  34,  35]])"
      ]
     },
     "execution_count": 49,
     "metadata": {},
     "output_type": "execute_result"
    }
   ],
   "source": [
    "n2.reshape(9,8)"
   ]
  },
  {
   "cell_type": "code",
   "execution_count": 50,
   "id": "2229c9d1",
   "metadata": {},
   "outputs": [
    {
     "data": {
      "text/plain": [
       "array([[5.+0.j, 8.+0.j, 9.+0.j, 2.+0.j],\n",
       "       [4.+0.j, 5.+0.j, 3.+0.j, 2.+0.j]])"
      ]
     },
     "execution_count": 50,
     "metadata": {},
     "output_type": "execute_result"
    }
   ],
   "source": [
    "#Complex array\n",
    "n3 = np.array([[5,8,9,2],[4,5,3,2]],dtype=complex)\n",
    "n3"
   ]
  },
  {
   "cell_type": "markdown",
   "id": "7c8db5b7",
   "metadata": {},
   "source": [
    "**Stacking**"
   ]
  },
  {
   "cell_type": "code",
   "execution_count": 51,
   "id": "e7c43eba",
   "metadata": {},
   "outputs": [],
   "source": [
    "a = np.array([[6,8,8,3,2],[8,9,4,3,1]])\n",
    "b = np.array([[4,8,9,4,3]])"
   ]
  },
  {
   "cell_type": "code",
   "execution_count": 52,
   "id": "be79358e",
   "metadata": {},
   "outputs": [
    {
     "name": "stdout",
     "output_type": "stream",
     "text": [
      "[[6 8 8 3 2]\n",
      " [8 9 4 3 1]]\n"
     ]
    }
   ],
   "source": [
    "print(a)"
   ]
  },
  {
   "cell_type": "code",
   "execution_count": 53,
   "id": "c9db55da",
   "metadata": {},
   "outputs": [
    {
     "name": "stdout",
     "output_type": "stream",
     "text": [
      "[[4 8 9 4 3]]\n"
     ]
    }
   ],
   "source": [
    "print(b)"
   ]
  },
  {
   "cell_type": "code",
   "execution_count": 54,
   "id": "460f0030",
   "metadata": {},
   "outputs": [
    {
     "data": {
      "text/plain": [
       "array([[6, 8, 8, 3, 2],\n",
       "       [8, 9, 4, 3, 1],\n",
       "       [4, 8, 9, 4, 3]])"
      ]
     },
     "execution_count": 54,
     "metadata": {},
     "output_type": "execute_result"
    }
   ],
   "source": [
    "#Vertical Stacking\n",
    "np.vstack((a,b))"
   ]
  },
  {
   "cell_type": "code",
   "execution_count": 55,
   "id": "c4a55682",
   "metadata": {},
   "outputs": [
    {
     "ename": "ValueError",
     "evalue": "all the input array dimensions for the concatenation axis must match exactly, but along dimension 0, the array at index 0 has size 2 and the array at index 1 has size 3",
     "output_type": "error",
     "traceback": [
      "\u001b[1;31m---------------------------------------------------------------------------\u001b[0m",
      "\u001b[1;31mValueError\u001b[0m                                Traceback (most recent call last)",
      "\u001b[1;32m~\\AppData\\Local\\Temp/ipykernel_10508/3634081161.py\u001b[0m in \u001b[0;36m<module>\u001b[1;34m\u001b[0m\n\u001b[0;32m      1\u001b[0m \u001b[1;31m#Horizontal Stacking\u001b[0m\u001b[1;33m\u001b[0m\u001b[1;33m\u001b[0m\u001b[0m\n\u001b[1;32m----> 2\u001b[1;33m \u001b[0mnp\u001b[0m\u001b[1;33m.\u001b[0m\u001b[0mhstack\u001b[0m\u001b[1;33m(\u001b[0m\u001b[1;33m(\u001b[0m\u001b[0ma\u001b[0m\u001b[1;33m,\u001b[0m\u001b[0mc\u001b[0m\u001b[1;33m)\u001b[0m\u001b[1;33m)\u001b[0m\u001b[1;33m\u001b[0m\u001b[1;33m\u001b[0m\u001b[0m\n\u001b[0m",
      "\u001b[1;32m<__array_function__ internals>\u001b[0m in \u001b[0;36mhstack\u001b[1;34m(*args, **kwargs)\u001b[0m\n",
      "\u001b[1;32mF:\\Anaconda\\lib\\site-packages\\numpy\\core\\shape_base.py\u001b[0m in \u001b[0;36mhstack\u001b[1;34m(tup)\u001b[0m\n\u001b[0;32m    344\u001b[0m         \u001b[1;32mreturn\u001b[0m \u001b[0m_nx\u001b[0m\u001b[1;33m.\u001b[0m\u001b[0mconcatenate\u001b[0m\u001b[1;33m(\u001b[0m\u001b[0marrs\u001b[0m\u001b[1;33m,\u001b[0m \u001b[1;36m0\u001b[0m\u001b[1;33m)\u001b[0m\u001b[1;33m\u001b[0m\u001b[1;33m\u001b[0m\u001b[0m\n\u001b[0;32m    345\u001b[0m     \u001b[1;32melse\u001b[0m\u001b[1;33m:\u001b[0m\u001b[1;33m\u001b[0m\u001b[1;33m\u001b[0m\u001b[0m\n\u001b[1;32m--> 346\u001b[1;33m         \u001b[1;32mreturn\u001b[0m \u001b[0m_nx\u001b[0m\u001b[1;33m.\u001b[0m\u001b[0mconcatenate\u001b[0m\u001b[1;33m(\u001b[0m\u001b[0marrs\u001b[0m\u001b[1;33m,\u001b[0m \u001b[1;36m1\u001b[0m\u001b[1;33m)\u001b[0m\u001b[1;33m\u001b[0m\u001b[1;33m\u001b[0m\u001b[0m\n\u001b[0m\u001b[0;32m    347\u001b[0m \u001b[1;33m\u001b[0m\u001b[0m\n\u001b[0;32m    348\u001b[0m \u001b[1;33m\u001b[0m\u001b[0m\n",
      "\u001b[1;32m<__array_function__ internals>\u001b[0m in \u001b[0;36mconcatenate\u001b[1;34m(*args, **kwargs)\u001b[0m\n",
      "\u001b[1;31mValueError\u001b[0m: all the input array dimensions for the concatenation axis must match exactly, but along dimension 0, the array at index 0 has size 2 and the array at index 1 has size 3"
     ]
    }
   ],
   "source": [
    "#Horizontal Stacking\n",
    "np.hstack((a,c))"
   ]
  },
  {
   "cell_type": "code",
   "execution_count": 56,
   "id": "4c4c4763",
   "metadata": {},
   "outputs": [
    {
     "name": "stdout",
     "output_type": "stream",
     "text": [
      "[[6 8 8 3 2]\n",
      " [8 9 4 3 1]]\n"
     ]
    }
   ],
   "source": [
    "print(a)"
   ]
  },
  {
   "cell_type": "code",
   "execution_count": 57,
   "id": "13bf93fa",
   "metadata": {},
   "outputs": [
    {
     "data": {
      "text/plain": [
       "array([[6, 8],\n",
       "       [8, 9],\n",
       "       [8, 4],\n",
       "       [3, 3],\n",
       "       [2, 1]])"
      ]
     },
     "execution_count": 57,
     "metadata": {},
     "output_type": "execute_result"
    }
   ],
   "source": [
    "#Transpose of array\n",
    "np.transpose(a)"
   ]
  },
  {
   "cell_type": "code",
   "execution_count": 58,
   "id": "4d25078f",
   "metadata": {},
   "outputs": [
    {
     "data": {
      "text/plain": [
       "array([[6, 8],\n",
       "       [8, 9],\n",
       "       [8, 4],\n",
       "       [3, 3],\n",
       "       [2, 1]])"
      ]
     },
     "execution_count": 58,
     "metadata": {},
     "output_type": "execute_result"
    }
   ],
   "source": [
    "a.T"
   ]
  },
  {
   "cell_type": "code",
   "execution_count": 59,
   "id": "f24ac95f",
   "metadata": {},
   "outputs": [
    {
     "name": "stdout",
     "output_type": "stream",
     "text": [
      "[4 6 7 2 3]\n"
     ]
    }
   ],
   "source": [
    "import numpy as np\n",
    "\n",
    "a = np.array([4, 6, 7, 2, 3])\n",
    "print(a)"
   ]
  },
  {
   "cell_type": "code",
   "execution_count": 60,
   "id": "055f40e3",
   "metadata": {},
   "outputs": [
    {
     "name": "stdout",
     "output_type": "stream",
     "text": [
      "[['1' '2' 'ABC' '4' '5']\n",
      " ['3' '4' '5' '6' '7']\n",
      " ['75' '45' '32' '12' '11']]\n"
     ]
    }
   ],
   "source": [
    "b = np.array([[1,2,\"ABC\",4,5],[3,4,5,6,7],[75,45,32,12,11]])\n",
    "print(b)"
   ]
  },
  {
   "cell_type": "code",
   "execution_count": 61,
   "id": "0deb2866",
   "metadata": {},
   "outputs": [],
   "source": [
    "b = np.array([[1,2,\"ABC\",4,5],[3,4,5,6,7],[75,45,32,12,11]])\n",
    "\n",
    "b1 = []\n",
    "b2 = []\n",
    "for val in b:\n",
    "  for i in val:\n",
    "    try:\n",
    "      #print(int(i))\n",
    "      b2.append(int(i))\n",
    "    except:\n",
    "      #print(ord(i[0]),ord(i[1]),ord(i[2]))\n",
    "      b2.append(ord(i[0])+ord(i[1])+ord(i[2]))\n",
    "    b1.append(b2)\n",
    "    b2 = []"
   ]
  },
  {
   "cell_type": "code",
   "execution_count": 62,
   "id": "9fa1552b",
   "metadata": {},
   "outputs": [
    {
     "name": "stdout",
     "output_type": "stream",
     "text": [
      "[[1], [2], [198], [4], [5], [3], [4], [5], [6], [7], [75], [45], [32], [12], [11]]\n"
     ]
    }
   ],
   "source": [
    "print(b1)"
   ]
  },
  {
   "cell_type": "code",
   "execution_count": 63,
   "id": "d8835ce1",
   "metadata": {},
   "outputs": [
    {
     "name": "stdout",
     "output_type": "stream",
     "text": [
      "[]\n"
     ]
    }
   ],
   "source": [
    "print(b2)"
   ]
  },
  {
   "cell_type": "code",
   "execution_count": 64,
   "id": "b67b63f7",
   "metadata": {},
   "outputs": [
    {
     "name": "stdout",
     "output_type": "stream",
     "text": [
      "[[  1   2 198   4   5]\n",
      " [  3   4   5   6   7]\n",
      " [ 75  45  32  12  11]]\n"
     ]
    }
   ],
   "source": [
    "print(np.array(b1).reshape(3,5))"
   ]
  },
  {
   "cell_type": "markdown",
   "id": "95fede86",
   "metadata": {},
   "source": [
    "# Numpy_2"
   ]
  },
  {
   "cell_type": "code",
   "execution_count": 65,
   "id": "2b5dae52",
   "metadata": {},
   "outputs": [
    {
     "name": "stdout",
     "output_type": "stream",
     "text": [
      "[[3 5 8]\n",
      " [2 8 6]\n",
      " [1 2 3]]\n"
     ]
    }
   ],
   "source": [
    "import numpy as np\n",
    "a = np.array([[3,5,8],[2,8,6],[1,2,3]])\n",
    "print(a)"
   ]
  },
  {
   "cell_type": "code",
   "execution_count": 66,
   "id": "046bafa8",
   "metadata": {},
   "outputs": [
    {
     "name": "stdout",
     "output_type": "stream",
     "text": [
      "[[3 2 1]]\n"
     ]
    }
   ],
   "source": [
    "b = np.array([[3,2,1]])\n",
    "print(b)"
   ]
  },
  {
   "cell_type": "code",
   "execution_count": 68,
   "id": "4df622cc",
   "metadata": {},
   "outputs": [
    {
     "data": {
      "text/plain": [
       "array([[27],\n",
       "       [28],\n",
       "       [10]])"
      ]
     },
     "execution_count": 68,
     "metadata": {},
     "output_type": "execute_result"
    }
   ],
   "source": [
    "# Dot multiplication of matrix\n",
    "np.dot(a,b.T)"
   ]
  },
  {
   "cell_type": "code",
   "execution_count": 69,
   "id": "b9790f67",
   "metadata": {},
   "outputs": [],
   "source": [
    "#3x + 2y + z = 45\n",
    "#x + y + 5z = 67\n",
    "#5x + 5y + 2z = 50"
   ]
  },
  {
   "cell_type": "code",
   "execution_count": 70,
   "id": "bf030ce0",
   "metadata": {},
   "outputs": [
    {
     "name": "stdout",
     "output_type": "stream",
     "text": [
      "[[3 2 1]\n",
      " [1 1 5]\n",
      " [5 5 2]]\n"
     ]
    }
   ],
   "source": [
    "A = np.array([[3,2,1],[1,1,5],[5,5,2]])\n",
    "print(A)"
   ]
  },
  {
   "cell_type": "code",
   "execution_count": 71,
   "id": "3083bc85",
   "metadata": {},
   "outputs": [
    {
     "name": "stdout",
     "output_type": "stream",
     "text": [
      "[['x']\n",
      " ['y']\n",
      " ['z']]\n"
     ]
    }
   ],
   "source": [
    "X = np.array([['x'],['y'],['z']])\n",
    "print(X)"
   ]
  },
  {
   "cell_type": "code",
   "execution_count": 72,
   "id": "e87e8515",
   "metadata": {},
   "outputs": [
    {
     "name": "stdout",
     "output_type": "stream",
     "text": [
      "[[45]\n",
      " [67]\n",
      " [50]]\n"
     ]
    }
   ],
   "source": [
    "B = np.array([[45],[67],[50]])\n",
    "print(B)"
   ]
  },
  {
   "cell_type": "code",
   "execution_count": 73,
   "id": "102dfa3c",
   "metadata": {},
   "outputs": [
    {
     "name": "stdout",
     "output_type": "stream",
     "text": [
      "[[ 1.00000000e+00 -4.34782609e-02 -3.91304348e-01]\n",
      " [-1.00000000e+00 -4.34782609e-02  6.08695652e-01]\n",
      " [-1.20676416e-17  2.17391304e-01 -4.34782609e-02]]\n"
     ]
    }
   ],
   "source": [
    "#A.X = B\n",
    "#X = inv(A).B\n",
    "\n",
    "A_inv = np.linalg.inv(A)\n",
    "print(A_inv)"
   ]
  },
  {
   "cell_type": "code",
   "execution_count": 74,
   "id": "97485eed",
   "metadata": {},
   "outputs": [
    {
     "name": "stdout",
     "output_type": "stream",
     "text": [
      "[[ 22.52173913]\n",
      " [-17.47826087]\n",
      " [ 12.39130435]]\n"
     ]
    }
   ],
   "source": [
    "X = np.dot(A_inv,B)\n",
    "print(X)"
   ]
  },
  {
   "cell_type": "code",
   "execution_count": 75,
   "id": "afb9cb39",
   "metadata": {},
   "outputs": [
    {
     "data": {
      "text/plain": [
       "array([[45.],\n",
       "       [67.],\n",
       "       [50.]])"
      ]
     },
     "execution_count": 75,
     "metadata": {},
     "output_type": "execute_result"
    }
   ],
   "source": [
    "np.dot(A,X)"
   ]
  },
  {
   "cell_type": "code",
   "execution_count": null,
   "id": "2878cfed",
   "metadata": {},
   "outputs": [],
   "source": []
  }
 ],
 "metadata": {
  "kernelspec": {
   "display_name": "Python 3 (ipykernel)",
   "language": "python",
   "name": "python3"
  },
  "language_info": {
   "codemirror_mode": {
    "name": "ipython",
    "version": 3
   },
   "file_extension": ".py",
   "mimetype": "text/x-python",
   "name": "python",
   "nbconvert_exporter": "python",
   "pygments_lexer": "ipython3",
   "version": "3.9.7"
  }
 },
 "nbformat": 4,
 "nbformat_minor": 5
}
